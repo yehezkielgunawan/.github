{
  "nbformat": 4,
  "nbformat_minor": 0,
  "metadata": {
    "colab": {
      "provenance": [],
      "authorship_tag": "ABX9TyO3bNWZ+INUHPBoTyrgBLtE",
      "include_colab_link": true
    },
    "kernelspec": {
      "name": "python3",
      "display_name": "Python 3"
    },
    "language_info": {
      "name": "python"
    }
  },
  "cells": [
    {
      "cell_type": "markdown",
      "metadata": {
        "id": "view-in-github",
        "colab_type": "text"
      },
      "source": [
        "<a href=\"https://colab.research.google.com/github/yehezkielgunawan/.github/blob/main/tugas_business_intelligence.ipynb\" target=\"_parent\"><img src=\"https://colab.research.google.com/assets/colab-badge.svg\" alt=\"Open In Colab\"/></a>"
      ]
    },
    {
      "cell_type": "markdown",
      "source": [
        "# Import Dataset & Install Libraries"
      ],
      "metadata": {
        "id": "b0w95U7m55K1"
      }
    },
    {
      "cell_type": "code",
      "execution_count": null,
      "metadata": {
        "id": "RuqDJRLC3Sqw"
      },
      "outputs": [],
      "source": [
        "import numpy as np\n",
        "import pandas as pd\n",
        "import tensorflow as tf\n",
        "import tensorflow_hub as hub\n",
        "from tensorflow.keras.models import Model\n",
        "import os\n",
        "import warnings\n",
        "warnings.filterwarnings('ignore')\n",
        "os.environ['TF_CPP_MIN_LOG_LEVEL'] = '3'\n",
        "\n",
        "# Verbosity is now 5\n",
        "\n",
        "tf.autograph.set_verbosity(0)"
      ]
    },
    {
      "cell_type": "code",
      "source": [
        "from google.colab import drive\n",
        "drive.mount('/content/gdrive')"
      ],
      "metadata": {
        "colab": {
          "base_uri": "https://localhost:8080/"
        },
        "id": "jI9uX3_X6Efr",
        "outputId": "7361cc86-68bf-41c8-8270-9b2a80476769"
      },
      "execution_count": null,
      "outputs": [
        {
          "output_type": "stream",
          "name": "stdout",
          "text": [
            "Drive already mounted at /content/gdrive; to attempt to forcibly remount, call drive.mount(\"/content/gdrive\", force_remount=True).\n"
          ]
        }
      ]
    },
    {
      "cell_type": "code",
      "source": [
        "df1 = pd.read_csv('/content/gdrive/My Drive/Tugas Business Intelligence/Reviews.csv')\n",
        "df1.head(5)"
      ],
      "metadata": {
        "colab": {
          "base_uri": "https://localhost:8080/",
          "height": 738
        },
        "id": "Gv7FdChB7q5g",
        "outputId": "ee7f62cb-08e1-49f9-bdda-ad996f313412"
      },
      "execution_count": null,
      "outputs": [
        {
          "output_type": "execute_result",
          "data": {
            "text/plain": [
              "   Id   ProductId          UserId                      ProfileName  \\\n",
              "0   1  B001E4KFG0  A3SGXH7AUHU8GW                       delmartian   \n",
              "1   2  B00813GRG4  A1D87F6ZCVE5NK                           dll pa   \n",
              "2   3  B000LQOCH0   ABXLMWJIXXAIN  Natalia Corres \"Natalia Corres\"   \n",
              "3   4  B000UA0QIQ  A395BORC6FGVXV                             Karl   \n",
              "4   5  B006K2ZZ7K  A1UQRSCLF8GW1T    Michael D. Bigham \"M. Wassir\"   \n",
              "\n",
              "   HelpfulnessNumerator  HelpfulnessDenominator  Score        Time  \\\n",
              "0                     1                       1      5  1303862400   \n",
              "1                     0                       0      1  1346976000   \n",
              "2                     1                       1      4  1219017600   \n",
              "3                     3                       3      2  1307923200   \n",
              "4                     0                       0      5  1350777600   \n",
              "\n",
              "                 Summary                                               Text  \n",
              "0  Good Quality Dog Food  I have bought several of the Vitality canned d...  \n",
              "1      Not as Advertised  Product arrived labeled as Jumbo Salted Peanut...  \n",
              "2  \"Delight\" says it all  This is a confection that has been around a fe...  \n",
              "3         Cough Medicine  If you are looking for the secret ingredient i...  \n",
              "4            Great taffy  Great taffy at a great price.  There was a wid...  "
            ],
            "text/html": [
              "\n",
              "  <div id=\"df-bf1002fa-1817-4fb0-9584-28b7368514fe\">\n",
              "    <div class=\"colab-df-container\">\n",
              "      <div>\n",
              "<style scoped>\n",
              "    .dataframe tbody tr th:only-of-type {\n",
              "        vertical-align: middle;\n",
              "    }\n",
              "\n",
              "    .dataframe tbody tr th {\n",
              "        vertical-align: top;\n",
              "    }\n",
              "\n",
              "    .dataframe thead th {\n",
              "        text-align: right;\n",
              "    }\n",
              "</style>\n",
              "<table border=\"1\" class=\"dataframe\">\n",
              "  <thead>\n",
              "    <tr style=\"text-align: right;\">\n",
              "      <th></th>\n",
              "      <th>Id</th>\n",
              "      <th>ProductId</th>\n",
              "      <th>UserId</th>\n",
              "      <th>ProfileName</th>\n",
              "      <th>HelpfulnessNumerator</th>\n",
              "      <th>HelpfulnessDenominator</th>\n",
              "      <th>Score</th>\n",
              "      <th>Time</th>\n",
              "      <th>Summary</th>\n",
              "      <th>Text</th>\n",
              "    </tr>\n",
              "  </thead>\n",
              "  <tbody>\n",
              "    <tr>\n",
              "      <th>0</th>\n",
              "      <td>1</td>\n",
              "      <td>B001E4KFG0</td>\n",
              "      <td>A3SGXH7AUHU8GW</td>\n",
              "      <td>delmartian</td>\n",
              "      <td>1</td>\n",
              "      <td>1</td>\n",
              "      <td>5</td>\n",
              "      <td>1303862400</td>\n",
              "      <td>Good Quality Dog Food</td>\n",
              "      <td>I have bought several of the Vitality canned d...</td>\n",
              "    </tr>\n",
              "    <tr>\n",
              "      <th>1</th>\n",
              "      <td>2</td>\n",
              "      <td>B00813GRG4</td>\n",
              "      <td>A1D87F6ZCVE5NK</td>\n",
              "      <td>dll pa</td>\n",
              "      <td>0</td>\n",
              "      <td>0</td>\n",
              "      <td>1</td>\n",
              "      <td>1346976000</td>\n",
              "      <td>Not as Advertised</td>\n",
              "      <td>Product arrived labeled as Jumbo Salted Peanut...</td>\n",
              "    </tr>\n",
              "    <tr>\n",
              "      <th>2</th>\n",
              "      <td>3</td>\n",
              "      <td>B000LQOCH0</td>\n",
              "      <td>ABXLMWJIXXAIN</td>\n",
              "      <td>Natalia Corres \"Natalia Corres\"</td>\n",
              "      <td>1</td>\n",
              "      <td>1</td>\n",
              "      <td>4</td>\n",
              "      <td>1219017600</td>\n",
              "      <td>\"Delight\" says it all</td>\n",
              "      <td>This is a confection that has been around a fe...</td>\n",
              "    </tr>\n",
              "    <tr>\n",
              "      <th>3</th>\n",
              "      <td>4</td>\n",
              "      <td>B000UA0QIQ</td>\n",
              "      <td>A395BORC6FGVXV</td>\n",
              "      <td>Karl</td>\n",
              "      <td>3</td>\n",
              "      <td>3</td>\n",
              "      <td>2</td>\n",
              "      <td>1307923200</td>\n",
              "      <td>Cough Medicine</td>\n",
              "      <td>If you are looking for the secret ingredient i...</td>\n",
              "    </tr>\n",
              "    <tr>\n",
              "      <th>4</th>\n",
              "      <td>5</td>\n",
              "      <td>B006K2ZZ7K</td>\n",
              "      <td>A1UQRSCLF8GW1T</td>\n",
              "      <td>Michael D. Bigham \"M. Wassir\"</td>\n",
              "      <td>0</td>\n",
              "      <td>0</td>\n",
              "      <td>5</td>\n",
              "      <td>1350777600</td>\n",
              "      <td>Great taffy</td>\n",
              "      <td>Great taffy at a great price.  There was a wid...</td>\n",
              "    </tr>\n",
              "  </tbody>\n",
              "</table>\n",
              "</div>\n",
              "      <button class=\"colab-df-convert\" onclick=\"convertToInteractive('df-bf1002fa-1817-4fb0-9584-28b7368514fe')\"\n",
              "              title=\"Convert this dataframe to an interactive table.\"\n",
              "              style=\"display:none;\">\n",
              "        \n",
              "  <svg xmlns=\"http://www.w3.org/2000/svg\" height=\"24px\"viewBox=\"0 0 24 24\"\n",
              "       width=\"24px\">\n",
              "    <path d=\"M0 0h24v24H0V0z\" fill=\"none\"/>\n",
              "    <path d=\"M18.56 5.44l.94 2.06.94-2.06 2.06-.94-2.06-.94-.94-2.06-.94 2.06-2.06.94zm-11 1L8.5 8.5l.94-2.06 2.06-.94-2.06-.94L8.5 2.5l-.94 2.06-2.06.94zm10 10l.94 2.06.94-2.06 2.06-.94-2.06-.94-.94-2.06-.94 2.06-2.06.94z\"/><path d=\"M17.41 7.96l-1.37-1.37c-.4-.4-.92-.59-1.43-.59-.52 0-1.04.2-1.43.59L10.3 9.45l-7.72 7.72c-.78.78-.78 2.05 0 2.83L4 21.41c.39.39.9.59 1.41.59.51 0 1.02-.2 1.41-.59l7.78-7.78 2.81-2.81c.8-.78.8-2.07 0-2.86zM5.41 20L4 18.59l7.72-7.72 1.47 1.35L5.41 20z\"/>\n",
              "  </svg>\n",
              "      </button>\n",
              "      \n",
              "  <style>\n",
              "    .colab-df-container {\n",
              "      display:flex;\n",
              "      flex-wrap:wrap;\n",
              "      gap: 12px;\n",
              "    }\n",
              "\n",
              "    .colab-df-convert {\n",
              "      background-color: #E8F0FE;\n",
              "      border: none;\n",
              "      border-radius: 50%;\n",
              "      cursor: pointer;\n",
              "      display: none;\n",
              "      fill: #1967D2;\n",
              "      height: 32px;\n",
              "      padding: 0 0 0 0;\n",
              "      width: 32px;\n",
              "    }\n",
              "\n",
              "    .colab-df-convert:hover {\n",
              "      background-color: #E2EBFA;\n",
              "      box-shadow: 0px 1px 2px rgba(60, 64, 67, 0.3), 0px 1px 3px 1px rgba(60, 64, 67, 0.15);\n",
              "      fill: #174EA6;\n",
              "    }\n",
              "\n",
              "    [theme=dark] .colab-df-convert {\n",
              "      background-color: #3B4455;\n",
              "      fill: #D2E3FC;\n",
              "    }\n",
              "\n",
              "    [theme=dark] .colab-df-convert:hover {\n",
              "      background-color: #434B5C;\n",
              "      box-shadow: 0px 1px 3px 1px rgba(0, 0, 0, 0.15);\n",
              "      filter: drop-shadow(0px 1px 2px rgba(0, 0, 0, 0.3));\n",
              "      fill: #FFFFFF;\n",
              "    }\n",
              "  </style>\n",
              "\n",
              "      <script>\n",
              "        const buttonEl =\n",
              "          document.querySelector('#df-bf1002fa-1817-4fb0-9584-28b7368514fe button.colab-df-convert');\n",
              "        buttonEl.style.display =\n",
              "          google.colab.kernel.accessAllowed ? 'block' : 'none';\n",
              "\n",
              "        async function convertToInteractive(key) {\n",
              "          const element = document.querySelector('#df-bf1002fa-1817-4fb0-9584-28b7368514fe');\n",
              "          const dataTable =\n",
              "            await google.colab.kernel.invokeFunction('convertToInteractive',\n",
              "                                                     [key], {});\n",
              "          if (!dataTable) return;\n",
              "\n",
              "          const docLinkHtml = 'Like what you see? Visit the ' +\n",
              "            '<a target=\"_blank\" href=https://colab.research.google.com/notebooks/data_table.ipynb>data table notebook</a>'\n",
              "            + ' to learn more about interactive tables.';\n",
              "          element.innerHTML = '';\n",
              "          dataTable['output_type'] = 'display_data';\n",
              "          await google.colab.output.renderOutput(dataTable, element);\n",
              "          const docLink = document.createElement('div');\n",
              "          docLink.innerHTML = docLinkHtml;\n",
              "          element.appendChild(docLink);\n",
              "        }\n",
              "      </script>\n",
              "    </div>\n",
              "  </div>\n",
              "  "
            ]
          },
          "metadata": {},
          "execution_count": 126
        }
      ]
    },
    {
      "cell_type": "markdown",
      "source": [
        "# Preprocessing Data"
      ],
      "metadata": {
        "id": "uZCOqF9G-cpF"
      }
    },
    {
      "cell_type": "code",
      "source": [
        "df1.describe()"
      ],
      "metadata": {
        "colab": {
          "base_uri": "https://localhost:8080/",
          "height": 300
        },
        "id": "YMqyMDRy9mSV",
        "outputId": "b9aedfdd-7c5b-45e2-bfe3-92223a68305e"
      },
      "execution_count": null,
      "outputs": [
        {
          "output_type": "execute_result",
          "data": {
            "text/plain": [
              "                  Id  HelpfulnessNumerator  HelpfulnessDenominator  \\\n",
              "count  568454.000000         568454.000000            568454.00000   \n",
              "mean   284227.500000              1.743817                 2.22881   \n",
              "std    164098.679298              7.636513                 8.28974   \n",
              "min         1.000000              0.000000                 0.00000   \n",
              "25%    142114.250000              0.000000                 0.00000   \n",
              "50%    284227.500000              0.000000                 1.00000   \n",
              "75%    426340.750000              2.000000                 2.00000   \n",
              "max    568454.000000            866.000000               923.00000   \n",
              "\n",
              "               Score          Time  \n",
              "count  568454.000000  5.684540e+05  \n",
              "mean        4.183199  1.296257e+09  \n",
              "std         1.310436  4.804331e+07  \n",
              "min         1.000000  9.393408e+08  \n",
              "25%         4.000000  1.271290e+09  \n",
              "50%         5.000000  1.311120e+09  \n",
              "75%         5.000000  1.332720e+09  \n",
              "max         5.000000  1.351210e+09  "
            ],
            "text/html": [
              "\n",
              "  <div id=\"df-39f2205f-865f-47be-9af3-84a4fc38a36d\">\n",
              "    <div class=\"colab-df-container\">\n",
              "      <div>\n",
              "<style scoped>\n",
              "    .dataframe tbody tr th:only-of-type {\n",
              "        vertical-align: middle;\n",
              "    }\n",
              "\n",
              "    .dataframe tbody tr th {\n",
              "        vertical-align: top;\n",
              "    }\n",
              "\n",
              "    .dataframe thead th {\n",
              "        text-align: right;\n",
              "    }\n",
              "</style>\n",
              "<table border=\"1\" class=\"dataframe\">\n",
              "  <thead>\n",
              "    <tr style=\"text-align: right;\">\n",
              "      <th></th>\n",
              "      <th>Id</th>\n",
              "      <th>HelpfulnessNumerator</th>\n",
              "      <th>HelpfulnessDenominator</th>\n",
              "      <th>Score</th>\n",
              "      <th>Time</th>\n",
              "    </tr>\n",
              "  </thead>\n",
              "  <tbody>\n",
              "    <tr>\n",
              "      <th>count</th>\n",
              "      <td>568454.000000</td>\n",
              "      <td>568454.000000</td>\n",
              "      <td>568454.00000</td>\n",
              "      <td>568454.000000</td>\n",
              "      <td>5.684540e+05</td>\n",
              "    </tr>\n",
              "    <tr>\n",
              "      <th>mean</th>\n",
              "      <td>284227.500000</td>\n",
              "      <td>1.743817</td>\n",
              "      <td>2.22881</td>\n",
              "      <td>4.183199</td>\n",
              "      <td>1.296257e+09</td>\n",
              "    </tr>\n",
              "    <tr>\n",
              "      <th>std</th>\n",
              "      <td>164098.679298</td>\n",
              "      <td>7.636513</td>\n",
              "      <td>8.28974</td>\n",
              "      <td>1.310436</td>\n",
              "      <td>4.804331e+07</td>\n",
              "    </tr>\n",
              "    <tr>\n",
              "      <th>min</th>\n",
              "      <td>1.000000</td>\n",
              "      <td>0.000000</td>\n",
              "      <td>0.00000</td>\n",
              "      <td>1.000000</td>\n",
              "      <td>9.393408e+08</td>\n",
              "    </tr>\n",
              "    <tr>\n",
              "      <th>25%</th>\n",
              "      <td>142114.250000</td>\n",
              "      <td>0.000000</td>\n",
              "      <td>0.00000</td>\n",
              "      <td>4.000000</td>\n",
              "      <td>1.271290e+09</td>\n",
              "    </tr>\n",
              "    <tr>\n",
              "      <th>50%</th>\n",
              "      <td>284227.500000</td>\n",
              "      <td>0.000000</td>\n",
              "      <td>1.00000</td>\n",
              "      <td>5.000000</td>\n",
              "      <td>1.311120e+09</td>\n",
              "    </tr>\n",
              "    <tr>\n",
              "      <th>75%</th>\n",
              "      <td>426340.750000</td>\n",
              "      <td>2.000000</td>\n",
              "      <td>2.00000</td>\n",
              "      <td>5.000000</td>\n",
              "      <td>1.332720e+09</td>\n",
              "    </tr>\n",
              "    <tr>\n",
              "      <th>max</th>\n",
              "      <td>568454.000000</td>\n",
              "      <td>866.000000</td>\n",
              "      <td>923.00000</td>\n",
              "      <td>5.000000</td>\n",
              "      <td>1.351210e+09</td>\n",
              "    </tr>\n",
              "  </tbody>\n",
              "</table>\n",
              "</div>\n",
              "      <button class=\"colab-df-convert\" onclick=\"convertToInteractive('df-39f2205f-865f-47be-9af3-84a4fc38a36d')\"\n",
              "              title=\"Convert this dataframe to an interactive table.\"\n",
              "              style=\"display:none;\">\n",
              "        \n",
              "  <svg xmlns=\"http://www.w3.org/2000/svg\" height=\"24px\"viewBox=\"0 0 24 24\"\n",
              "       width=\"24px\">\n",
              "    <path d=\"M0 0h24v24H0V0z\" fill=\"none\"/>\n",
              "    <path d=\"M18.56 5.44l.94 2.06.94-2.06 2.06-.94-2.06-.94-.94-2.06-.94 2.06-2.06.94zm-11 1L8.5 8.5l.94-2.06 2.06-.94-2.06-.94L8.5 2.5l-.94 2.06-2.06.94zm10 10l.94 2.06.94-2.06 2.06-.94-2.06-.94-.94-2.06-.94 2.06-2.06.94z\"/><path d=\"M17.41 7.96l-1.37-1.37c-.4-.4-.92-.59-1.43-.59-.52 0-1.04.2-1.43.59L10.3 9.45l-7.72 7.72c-.78.78-.78 2.05 0 2.83L4 21.41c.39.39.9.59 1.41.59.51 0 1.02-.2 1.41-.59l7.78-7.78 2.81-2.81c.8-.78.8-2.07 0-2.86zM5.41 20L4 18.59l7.72-7.72 1.47 1.35L5.41 20z\"/>\n",
              "  </svg>\n",
              "      </button>\n",
              "      \n",
              "  <style>\n",
              "    .colab-df-container {\n",
              "      display:flex;\n",
              "      flex-wrap:wrap;\n",
              "      gap: 12px;\n",
              "    }\n",
              "\n",
              "    .colab-df-convert {\n",
              "      background-color: #E8F0FE;\n",
              "      border: none;\n",
              "      border-radius: 50%;\n",
              "      cursor: pointer;\n",
              "      display: none;\n",
              "      fill: #1967D2;\n",
              "      height: 32px;\n",
              "      padding: 0 0 0 0;\n",
              "      width: 32px;\n",
              "    }\n",
              "\n",
              "    .colab-df-convert:hover {\n",
              "      background-color: #E2EBFA;\n",
              "      box-shadow: 0px 1px 2px rgba(60, 64, 67, 0.3), 0px 1px 3px 1px rgba(60, 64, 67, 0.15);\n",
              "      fill: #174EA6;\n",
              "    }\n",
              "\n",
              "    [theme=dark] .colab-df-convert {\n",
              "      background-color: #3B4455;\n",
              "      fill: #D2E3FC;\n",
              "    }\n",
              "\n",
              "    [theme=dark] .colab-df-convert:hover {\n",
              "      background-color: #434B5C;\n",
              "      box-shadow: 0px 1px 3px 1px rgba(0, 0, 0, 0.15);\n",
              "      filter: drop-shadow(0px 1px 2px rgba(0, 0, 0, 0.3));\n",
              "      fill: #FFFFFF;\n",
              "    }\n",
              "  </style>\n",
              "\n",
              "      <script>\n",
              "        const buttonEl =\n",
              "          document.querySelector('#df-39f2205f-865f-47be-9af3-84a4fc38a36d button.colab-df-convert');\n",
              "        buttonEl.style.display =\n",
              "          google.colab.kernel.accessAllowed ? 'block' : 'none';\n",
              "\n",
              "        async function convertToInteractive(key) {\n",
              "          const element = document.querySelector('#df-39f2205f-865f-47be-9af3-84a4fc38a36d');\n",
              "          const dataTable =\n",
              "            await google.colab.kernel.invokeFunction('convertToInteractive',\n",
              "                                                     [key], {});\n",
              "          if (!dataTable) return;\n",
              "\n",
              "          const docLinkHtml = 'Like what you see? Visit the ' +\n",
              "            '<a target=\"_blank\" href=https://colab.research.google.com/notebooks/data_table.ipynb>data table notebook</a>'\n",
              "            + ' to learn more about interactive tables.';\n",
              "          element.innerHTML = '';\n",
              "          dataTable['output_type'] = 'display_data';\n",
              "          await google.colab.output.renderOutput(dataTable, element);\n",
              "          const docLink = document.createElement('div');\n",
              "          docLink.innerHTML = docLinkHtml;\n",
              "          element.appendChild(docLink);\n",
              "        }\n",
              "      </script>\n",
              "    </div>\n",
              "  </div>\n",
              "  "
            ]
          },
          "metadata": {},
          "execution_count": 127
        }
      ]
    },
    {
      "cell_type": "code",
      "source": [
        "df1.info()"
      ],
      "metadata": {
        "colab": {
          "base_uri": "https://localhost:8080/"
        },
        "id": "Yn-T4hmO9vs1",
        "outputId": "d45cfdbb-fce7-40ed-a96c-707562113cdc"
      },
      "execution_count": null,
      "outputs": [
        {
          "output_type": "stream",
          "name": "stdout",
          "text": [
            "<class 'pandas.core.frame.DataFrame'>\n",
            "RangeIndex: 568454 entries, 0 to 568453\n",
            "Data columns (total 10 columns):\n",
            " #   Column                  Non-Null Count   Dtype \n",
            "---  ------                  --------------   ----- \n",
            " 0   Id                      568454 non-null  int64 \n",
            " 1   ProductId               568454 non-null  object\n",
            " 2   UserId                  568454 non-null  object\n",
            " 3   ProfileName             568438 non-null  object\n",
            " 4   HelpfulnessNumerator    568454 non-null  int64 \n",
            " 5   HelpfulnessDenominator  568454 non-null  int64 \n",
            " 6   Score                   568454 non-null  int64 \n",
            " 7   Time                    568454 non-null  int64 \n",
            " 8   Summary                 568427 non-null  object\n",
            " 9   Text                    568454 non-null  object\n",
            "dtypes: int64(5), object(5)\n",
            "memory usage: 43.4+ MB\n"
          ]
        }
      ]
    },
    {
      "cell_type": "markdown",
      "source": [
        "## We only use Text, and Score column for classification purpose"
      ],
      "metadata": {
        "id": "ePaZdaWkAHfK"
      }
    },
    {
      "cell_type": "code",
      "source": [
        "all_cols = df1.columns\n",
        "keep_cols = ['Score', 'Text']\n",
        "df1.drop([c for c in all_cols if c not in keep_cols], axis=1, inplace=True)\n",
        "df1.head(10)"
      ],
      "metadata": {
        "colab": {
          "base_uri": "https://localhost:8080/",
          "height": 363
        },
        "id": "ffiH55Jv9zdX",
        "outputId": "d7064559-e874-46c0-81b6-e9e31a552316"
      },
      "execution_count": null,
      "outputs": [
        {
          "output_type": "execute_result",
          "data": {
            "text/plain": [
              "   Score                                               Text\n",
              "0      5  I have bought several of the Vitality canned d...\n",
              "1      1  Product arrived labeled as Jumbo Salted Peanut...\n",
              "2      4  This is a confection that has been around a fe...\n",
              "3      2  If you are looking for the secret ingredient i...\n",
              "4      5  Great taffy at a great price.  There was a wid...\n",
              "5      4  I got a wild hair for taffy and ordered this f...\n",
              "6      5  This saltwater taffy had great flavors and was...\n",
              "7      5  This taffy is so good.  It is very soft and ch...\n",
              "8      5  Right now I'm mostly just sprouting this so my...\n",
              "9      5  This is a very healthy dog food. Good for thei..."
            ],
            "text/html": [
              "\n",
              "  <div id=\"df-173598ef-0470-45d4-9e3a-37bc9af0ca6e\">\n",
              "    <div class=\"colab-df-container\">\n",
              "      <div>\n",
              "<style scoped>\n",
              "    .dataframe tbody tr th:only-of-type {\n",
              "        vertical-align: middle;\n",
              "    }\n",
              "\n",
              "    .dataframe tbody tr th {\n",
              "        vertical-align: top;\n",
              "    }\n",
              "\n",
              "    .dataframe thead th {\n",
              "        text-align: right;\n",
              "    }\n",
              "</style>\n",
              "<table border=\"1\" class=\"dataframe\">\n",
              "  <thead>\n",
              "    <tr style=\"text-align: right;\">\n",
              "      <th></th>\n",
              "      <th>Score</th>\n",
              "      <th>Text</th>\n",
              "    </tr>\n",
              "  </thead>\n",
              "  <tbody>\n",
              "    <tr>\n",
              "      <th>0</th>\n",
              "      <td>5</td>\n",
              "      <td>I have bought several of the Vitality canned d...</td>\n",
              "    </tr>\n",
              "    <tr>\n",
              "      <th>1</th>\n",
              "      <td>1</td>\n",
              "      <td>Product arrived labeled as Jumbo Salted Peanut...</td>\n",
              "    </tr>\n",
              "    <tr>\n",
              "      <th>2</th>\n",
              "      <td>4</td>\n",
              "      <td>This is a confection that has been around a fe...</td>\n",
              "    </tr>\n",
              "    <tr>\n",
              "      <th>3</th>\n",
              "      <td>2</td>\n",
              "      <td>If you are looking for the secret ingredient i...</td>\n",
              "    </tr>\n",
              "    <tr>\n",
              "      <th>4</th>\n",
              "      <td>5</td>\n",
              "      <td>Great taffy at a great price.  There was a wid...</td>\n",
              "    </tr>\n",
              "    <tr>\n",
              "      <th>5</th>\n",
              "      <td>4</td>\n",
              "      <td>I got a wild hair for taffy and ordered this f...</td>\n",
              "    </tr>\n",
              "    <tr>\n",
              "      <th>6</th>\n",
              "      <td>5</td>\n",
              "      <td>This saltwater taffy had great flavors and was...</td>\n",
              "    </tr>\n",
              "    <tr>\n",
              "      <th>7</th>\n",
              "      <td>5</td>\n",
              "      <td>This taffy is so good.  It is very soft and ch...</td>\n",
              "    </tr>\n",
              "    <tr>\n",
              "      <th>8</th>\n",
              "      <td>5</td>\n",
              "      <td>Right now I'm mostly just sprouting this so my...</td>\n",
              "    </tr>\n",
              "    <tr>\n",
              "      <th>9</th>\n",
              "      <td>5</td>\n",
              "      <td>This is a very healthy dog food. Good for thei...</td>\n",
              "    </tr>\n",
              "  </tbody>\n",
              "</table>\n",
              "</div>\n",
              "      <button class=\"colab-df-convert\" onclick=\"convertToInteractive('df-173598ef-0470-45d4-9e3a-37bc9af0ca6e')\"\n",
              "              title=\"Convert this dataframe to an interactive table.\"\n",
              "              style=\"display:none;\">\n",
              "        \n",
              "  <svg xmlns=\"http://www.w3.org/2000/svg\" height=\"24px\"viewBox=\"0 0 24 24\"\n",
              "       width=\"24px\">\n",
              "    <path d=\"M0 0h24v24H0V0z\" fill=\"none\"/>\n",
              "    <path d=\"M18.56 5.44l.94 2.06.94-2.06 2.06-.94-2.06-.94-.94-2.06-.94 2.06-2.06.94zm-11 1L8.5 8.5l.94-2.06 2.06-.94-2.06-.94L8.5 2.5l-.94 2.06-2.06.94zm10 10l.94 2.06.94-2.06 2.06-.94-2.06-.94-.94-2.06-.94 2.06-2.06.94z\"/><path d=\"M17.41 7.96l-1.37-1.37c-.4-.4-.92-.59-1.43-.59-.52 0-1.04.2-1.43.59L10.3 9.45l-7.72 7.72c-.78.78-.78 2.05 0 2.83L4 21.41c.39.39.9.59 1.41.59.51 0 1.02-.2 1.41-.59l7.78-7.78 2.81-2.81c.8-.78.8-2.07 0-2.86zM5.41 20L4 18.59l7.72-7.72 1.47 1.35L5.41 20z\"/>\n",
              "  </svg>\n",
              "      </button>\n",
              "      \n",
              "  <style>\n",
              "    .colab-df-container {\n",
              "      display:flex;\n",
              "      flex-wrap:wrap;\n",
              "      gap: 12px;\n",
              "    }\n",
              "\n",
              "    .colab-df-convert {\n",
              "      background-color: #E8F0FE;\n",
              "      border: none;\n",
              "      border-radius: 50%;\n",
              "      cursor: pointer;\n",
              "      display: none;\n",
              "      fill: #1967D2;\n",
              "      height: 32px;\n",
              "      padding: 0 0 0 0;\n",
              "      width: 32px;\n",
              "    }\n",
              "\n",
              "    .colab-df-convert:hover {\n",
              "      background-color: #E2EBFA;\n",
              "      box-shadow: 0px 1px 2px rgba(60, 64, 67, 0.3), 0px 1px 3px 1px rgba(60, 64, 67, 0.15);\n",
              "      fill: #174EA6;\n",
              "    }\n",
              "\n",
              "    [theme=dark] .colab-df-convert {\n",
              "      background-color: #3B4455;\n",
              "      fill: #D2E3FC;\n",
              "    }\n",
              "\n",
              "    [theme=dark] .colab-df-convert:hover {\n",
              "      background-color: #434B5C;\n",
              "      box-shadow: 0px 1px 3px 1px rgba(0, 0, 0, 0.15);\n",
              "      filter: drop-shadow(0px 1px 2px rgba(0, 0, 0, 0.3));\n",
              "      fill: #FFFFFF;\n",
              "    }\n",
              "  </style>\n",
              "\n",
              "      <script>\n",
              "        const buttonEl =\n",
              "          document.querySelector('#df-173598ef-0470-45d4-9e3a-37bc9af0ca6e button.colab-df-convert');\n",
              "        buttonEl.style.display =\n",
              "          google.colab.kernel.accessAllowed ? 'block' : 'none';\n",
              "\n",
              "        async function convertToInteractive(key) {\n",
              "          const element = document.querySelector('#df-173598ef-0470-45d4-9e3a-37bc9af0ca6e');\n",
              "          const dataTable =\n",
              "            await google.colab.kernel.invokeFunction('convertToInteractive',\n",
              "                                                     [key], {});\n",
              "          if (!dataTable) return;\n",
              "\n",
              "          const docLinkHtml = 'Like what you see? Visit the ' +\n",
              "            '<a target=\"_blank\" href=https://colab.research.google.com/notebooks/data_table.ipynb>data table notebook</a>'\n",
              "            + ' to learn more about interactive tables.';\n",
              "          element.innerHTML = '';\n",
              "          dataTable['output_type'] = 'display_data';\n",
              "          await google.colab.output.renderOutput(dataTable, element);\n",
              "          const docLink = document.createElement('div');\n",
              "          docLink.innerHTML = docLinkHtml;\n",
              "          element.appendChild(docLink);\n",
              "        }\n",
              "      </script>\n",
              "    </div>\n",
              "  </div>\n",
              "  "
            ]
          },
          "metadata": {},
          "execution_count": 129
        }
      ]
    },
    {
      "cell_type": "code",
      "source": [
        "import seaborn as sns\n",
        "plt.figure(figsize=(8,6))\n",
        "plt.title('Score distribution')\n",
        "sns.histplot(df1['Score'], discrete=True);"
      ],
      "metadata": {
        "colab": {
          "base_uri": "https://localhost:8080/",
          "height": 404
        },
        "id": "56aI5pX4-oBd",
        "outputId": "ec965a98-eadd-4a8a-bffe-7597dcadebad"
      },
      "execution_count": null,
      "outputs": [
        {
          "output_type": "display_data",
          "data": {
            "text/plain": [
              "<Figure size 576x432 with 1 Axes>"
            ],
            "image/png": "[encoded data removed]"
          },
          "metadata": {
            "needs_background": "light"
          }
        }
      ]
    },
    {
      "cell_type": "markdown",
      "source": [
        "## Take just 50000 row data as sample, too much data takes more time to be trained"
      ],
      "metadata": {
        "id": "9HGbtLnnZ5bT"
      }
    },
    {
      "cell_type": "code",
      "source": [
        "df1 = df1.sample(n=10000, random_state=30)"
      ],
      "metadata": {
        "id": "a8IImT43Zf8D"
      },
      "execution_count": null,
      "outputs": []
    },
    {
      "cell_type": "code",
      "source": [
        "import re\n",
        "df1['Text']=df1['Text'].apply(lambda row : re.sub('<.*?>','',row))"
      ],
      "metadata": {
        "id": "7B-fhYtPPCPH"
      },
      "execution_count": null,
      "outputs": []
    },
    {
      "cell_type": "markdown",
      "source": [
        "We are doing sentiment analysis hence we will convert label to 0 or 1¶\n",
        "0: Negative Review\n",
        "1: Positive Review"
      ],
      "metadata": {
        "id": "4yKH0lbnTGLa"
      }
    },
    {
      "cell_type": "code",
      "source": [
        "df1.loc[df1['Score'] <=2, 'Score'] = 0\n",
        "df1.loc[df1['Score'] > 3, 'Score'] = 1"
      ],
      "metadata": {
        "id": "tzxW_qBITETr"
      },
      "execution_count": null,
      "outputs": []
    },
    {
      "cell_type": "code",
      "source": [
        "df1.drop(df1[df1['Score']==3].index,inplace=True)"
      ],
      "metadata": {
        "id": "YM-lLc3_TNtv"
      },
      "execution_count": null,
      "outputs": []
    },
    {
      "cell_type": "code",
      "source": [
        "df1['len'] = df1.Text.apply(lambda x: len(x.split()))"
      ],
      "metadata": {
        "id": "006269ttTOci"
      },
      "execution_count": null,
      "outputs": []
    },
    {
      "cell_type": "code",
      "source": [
        "df1 = df1[df1.len<50]"
      ],
      "metadata": {
        "id": "7oiNXM98TT7T"
      },
      "execution_count": null,
      "outputs": []
    },
    {
      "cell_type": "markdown",
      "source": [
        "# Train Test Split the Dataset"
      ],
      "metadata": {
        "id": "WT7Nu533BL5y"
      }
    },
    {
      "cell_type": "code",
      "source": [
        "from sklearn.model_selection import train_test_split\n",
        "\n",
        "X_train, X_test, y_train, y_test = train_test_split(df1[['Text','len']],df1.Score, test_size=0.2, random_state=42, stratify=df1.Score)"
      ],
      "metadata": {
        "id": "NEDhd9vLAuwD"
      },
      "execution_count": null,
      "outputs": []
    },
    {
      "cell_type": "code",
      "source": [
        "X_train.shape,X_test.shape"
      ],
      "metadata": {
        "colab": {
          "base_uri": "https://localhost:8080/"
        },
        "id": "-Vvd02kzOdAW",
        "outputId": "9bda8950-4fa5-4a6a-b6d9-465336a15a57"
      },
      "execution_count": null,
      "outputs": [
        {
          "output_type": "execute_result",
          "data": {
            "text/plain": [
              "((3321, 2), (831, 2))"
            ]
          },
          "metadata": {},
          "execution_count": 138
        }
      ]
    },
    {
      "cell_type": "markdown",
      "source": [
        "# Classification using BERT"
      ],
      "metadata": {
        "id": "uvJNcoW1Dfx5"
      }
    },
    {
      "cell_type": "code",
      "source": [
        "max_seq_length = 55\n",
        "tf.keras.backend.clear_session()\n",
        "input_word_ids = tf.keras.layers.Input(shape=(max_seq_length,), dtype=tf.int32, name=\"input_word_ids\")\n",
        "                # ids of words\n",
        "input_mask = tf.keras.layers.Input(shape=(max_seq_length,), dtype=tf.int32, name=\"input_mask\")\n",
        "                # masking of ids\n",
        "segment_ids = tf.keras.layers.Input(shape=(max_seq_length,), dtype=tf.int32, name=\"segment_ids\")\n",
        "                # segment of ids\n",
        "bert_layer = hub.KerasLayer(\"https://tfhub.dev/tensorflow/bert_en_uncased_L-12_H-768_A-12/1\", trainable=False)\n",
        "pooled_output, sequence_output = bert_layer([input_word_ids, input_mask, segment_ids])\n",
        "\n",
        "bert_model = Model(inputs=[input_word_ids, input_mask, segment_ids], outputs=pooled_output)"
      ],
      "metadata": {
        "id": "Y_pUKe_ICnMD"
      },
      "execution_count": null,
      "outputs": []
    },
    {
      "cell_type": "code",
      "source": [
        "bert_model.summary()"
      ],
      "metadata": {
        "colab": {
          "base_uri": "https://localhost:8080/"
        },
        "id": "nrlEYqEGDed3",
        "outputId": "e514df17-9cde-4419-c633-770e61923244"
      },
      "execution_count": null,
      "outputs": [
        {
          "output_type": "stream",
          "name": "stdout",
          "text": [
            "Model: \"model\"\n",
            "__________________________________________________________________________________________________\n",
            " Layer (type)                   Output Shape         Param #     Connected to                     \n",
            "==================================================================================================\n",
            " input_word_ids (InputLayer)    [(None, 55)]         0           []                               \n",
            "                                                                                                  \n",
            " input_mask (InputLayer)        [(None, 55)]         0           []                               \n",
            "                                                                                                  \n",
            " segment_ids (InputLayer)       [(None, 55)]         0           []                               \n",
            "                                                                                                  \n",
            " keras_layer (KerasLayer)       [(None, 768),        109482241   ['input_word_ids[0][0]',         \n",
            "                                 (None, 55, 768)]                 'input_mask[0][0]',             \n",
            "                                                                  'segment_ids[0][0]']            \n",
            "                                                                                                  \n",
            "==================================================================================================\n",
            "Total params: 109,482,241\n",
            "Trainable params: 0\n",
            "Non-trainable params: 109,482,241\n",
            "__________________________________________________________________________________________________\n"
          ]
        }
      ]
    },
    {
      "cell_type": "code",
      "source": [
        "vocab_file = bert_layer.resolved_object.vocab_file.asset_path.numpy()\n",
        "do_lower_case = bert_layer.resolved_object.do_lower_case.numpy()"
      ],
      "metadata": {
        "id": "D_rNZXZwQMpq"
      },
      "execution_count": null,
      "outputs": []
    },
    {
      "cell_type": "code",
      "source": [
        "!wget --quiet https://raw.githubusercontent.com/tensorflow/models/master/official/nlp/bert/tokenization.py"
      ],
      "metadata": {
        "id": "f8HL0lu1QPxP"
      },
      "execution_count": null,
      "outputs": []
    },
    {
      "cell_type": "code",
      "source": [
        "def bert_preprocess(sentence,tokenizer,max_seq_len=512):\n",
        "    tokens=[]\n",
        "    masks=[]\n",
        "    segments=[]\n",
        "    for word in sentence:\n",
        "        word=tokenizer.tokenize(word)\n",
        "        word=word[:max_seq_len-2]\n",
        "        seq=[\"[CLS]\"] + word + [\"[SEP]\"]\n",
        "        token = tokenizer.convert_tokens_to_ids(seq)\n",
        "        padding_tokens=token+[0]*(max_seq_len-len(token))\n",
        "        mask=[1]*len(seq)\n",
        "        masking=mask+[0]*(max_seq_len-len(token))\n",
        "        segment=np.zeros(max_seq_length)\n",
        "        \n",
        "        tokens.append(padding_tokens)\n",
        "        masks.append(masking)\n",
        "        segments.append(segment)\n",
        "    return np.array(tokens),np.array(masks),np.array(segments)"
      ],
      "metadata": {
        "id": "--DtNVC8QUzl"
      },
      "execution_count": null,
      "outputs": []
    },
    {
      "cell_type": "code",
      "source": [
        "from bert import tokenization\n",
        "tokenizer =tokenization.FullTokenizer(vocab_file,do_lower_case)"
      ],
      "metadata": {
        "id": "JeDvwkvgQblH"
      },
      "execution_count": null,
      "outputs": []
    },
    {
      "cell_type": "code",
      "source": [
        "bert_model.input"
      ],
      "metadata": {
        "colab": {
          "base_uri": "https://localhost:8080/"
        },
        "id": "QEW_ninKRUbj",
        "outputId": "3bd092b5-3aae-4345-e855-1fa012e3bd39"
      },
      "execution_count": null,
      "outputs": [
        {
          "output_type": "execute_result",
          "data": {
            "text/plain": [
              "[<KerasTensor: shape=(None, 55) dtype=int32 (created by layer 'input_word_ids')>,\n",
              " <KerasTensor: shape=(None, 55) dtype=int32 (created by layer 'input_mask')>,\n",
              " <KerasTensor: shape=(None, 55) dtype=int32 (created by layer 'segment_ids')>]"
            ]
          },
          "metadata": {},
          "execution_count": 145
        }
      ]
    },
    {
      "cell_type": "code",
      "source": [
        "bert_model.output"
      ],
      "metadata": {
        "colab": {
          "base_uri": "https://localhost:8080/"
        },
        "id": "FAxfPZtrRW0i",
        "outputId": "055d89a2-74d3-465d-97b3-42888e808621"
      },
      "execution_count": null,
      "outputs": [
        {
          "output_type": "execute_result",
          "data": {
            "text/plain": [
              "<KerasTensor: shape=(None, 768) dtype=float32 (created by layer 'keras_layer')>"
            ]
          },
          "metadata": {},
          "execution_count": 146
        }
      ]
    },
    {
      "cell_type": "code",
      "source": [
        "import sys\n",
        "from absl import flags\n",
        "sys.argv=['preserve_unused_tokens=False']\n",
        "flags.FLAGS(sys.argv)\n",
        "\n",
        "X_train_tokens, X_train_mask, X_train_segment=bert_preprocess(X_train.Text.values,tokenizer,55)\n",
        "X_test_tokens, X_test_mask, X_test_segment=bert_preprocess(X_test.Text.values,tokenizer,55)"
      ],
      "metadata": {
        "id": "jBRDEOsuRY2L"
      },
      "execution_count": null,
      "outputs": []
    },
    {
      "cell_type": "code",
      "source": [
        "X_train_pooled_output=bert_model.predict([X_train_tokens,X_train_mask,X_train_segment])\n",
        "X_test_pooled_output=bert_model.predict([X_test_tokens,X_test_mask,X_test_segment])"
      ],
      "metadata": {
        "colab": {
          "base_uri": "https://localhost:8080/"
        },
        "id": "_npqG-tUUMv_",
        "outputId": "552c63e7-605c-4ed8-9480-0356bf67282e"
      },
      "execution_count": null,
      "outputs": [
        {
          "output_type": "stream",
          "name": "stdout",
          "text": [
            "104/104 [==============================] - 676s 6s/step\n",
            "26/26 [==============================] - 162s 6s/step\n"
          ]
        }
      ]
    },
    {
      "cell_type": "code",
      "source": [
        "from tensorflow.keras.layers import Input, Dense, Activation, Dropout\n",
        "from tensorflow.keras.models import Model\n",
        "\n",
        "import datetime\n",
        "from sklearn.metrics import roc_auc_score"
      ],
      "metadata": {
        "id": "QS7ff1lXbilA"
      },
      "execution_count": null,
      "outputs": []
    },
    {
      "cell_type": "code",
      "source": [
        "auc=[]\n",
        "val_auc=[]\n",
        "class LossHistory(tf.keras.callbacks.Callback):\n",
        "    \n",
        "    def on_train_begin(self, logs={}):\n",
        "        self.history={'val_accuracy': []}\n",
        "\n",
        "\n",
        "    def on_epoch_end(self, epoch, logs={}):\n",
        "        ## on end of each epoch, we will get logs and update the self.history dict\n",
        "        if logs.get('val_accuracy', -1) != -1:\n",
        "            self.history['val_accuracy'].append(logs.get('val_accuracy'))\n",
        "        auc_tr=(roc_auc_score(y_train,(self.model.predict(X_train_pooled_output))) )\n",
        "        auc_test=(roc_auc_score (y_test, (self.model.predict(X_test_pooled_output) ) ) )\n",
        "        print('\\n  train_auc : ',auc_tr)\n",
        "        print('  val_auc : ',auc_test)\n",
        "        auc.append(auc_tr)\n",
        "        val_auc.append(auc_test)\n",
        "        loss=logs.get('loss')"
      ],
      "metadata": {
        "id": "f08XHobCbszN"
      },
      "execution_count": null,
      "outputs": []
    },
    {
      "cell_type": "code",
      "source": [
        "#Callbacks\n",
        "filepath=\"model1_save/weights-{epoch:02d}-{val_accuracy:.4f}.hdf5\"\n",
        "checkpoint = tf.keras.callbacks.ModelCheckpoint(filepath=filepath, monitor='val_loss',  verbose=1, save_best_only=True, mode='auto')\n",
        "\n",
        "history_own = LossHistory()\n",
        "\n",
        "earlystop = tf.keras.callbacks.EarlyStopping(monitor='val_accuracy',mode='max', patience=2, verbose=1)"
      ],
      "metadata": {
        "id": "vz61VK-XbtpU"
      },
      "execution_count": null,
      "outputs": []
    },
    {
      "cell_type": "code",
      "source": [
        "##create an NN and \n",
        "input = Input(shape=[768,],name='input_layer')\n",
        "dense1=Dense(400, activation='relu',name='dense_1')(input)\n",
        "dense2=Dense(220, activation='relu',name='dense_2')(dense1)\n",
        "dense3=Dense(40, activation='relu',name='dense_3')(dense2)\n",
        "output=Dense(1, activation='sigmoid',name='dense_4')(dense3)\n",
        "model1 = Model(inputs=input, outputs=output)\n",
        "tf.keras.utils.plot_model(model1,\"model_1.png\",show_shapes=True)"
      ],
      "metadata": {
        "colab": {
          "base_uri": "https://localhost:8080/",
          "height": 533
        },
        "id": "T7BV1gN4bvQW",
        "outputId": "00f8d174-a71f-403a-f846-61f156f928e2"
      },
      "execution_count": null,
      "outputs": [
        {
          "output_type": "execute_result",
          "data": {
            "image/png": "[encoded data removed]",
            "text/plain": [
              "<IPython.core.display.Image object>"
            ]
          },
          "metadata": {},
          "execution_count": 152
        }
      ]
    },
    {
      "cell_type": "code",
      "source": [
        "opt= tf.keras.optimizers.Adam(learning_rate=0.001)\n",
        "model1.compile(optimizer=opt,loss=tf.keras.losses.BinaryCrossentropy(),metrics='accuracy')"
      ],
      "metadata": {
        "id": "FLN8z0T3bxP2"
      },
      "execution_count": null,
      "outputs": []
    },
    {
      "cell_type": "code",
      "source": [
        "X_test_pooled_output.shape"
      ],
      "metadata": {
        "colab": {
          "base_uri": "https://localhost:8080/"
        },
        "id": "29M4oI0hbzhL",
        "outputId": "dd9a14b2-3756-412a-b2e1-088a958cfed4"
      },
      "execution_count": null,
      "outputs": [
        {
          "output_type": "execute_result",
          "data": {
            "text/plain": [
              "(831, 768)"
            ]
          },
          "metadata": {},
          "execution_count": 154
        }
      ]
    },
    {
      "cell_type": "code",
      "source": [
        "!rm -rf ./logs_model1/ \n",
        "tf.keras.backend.clear_session()\n",
        "model1.fit(X_train_pooled_output,y_train,validation_data=(X_test_pooled_output,y_test),epochs=50,callbacks=[history_own])"
      ],
      "metadata": {
        "colab": {
          "base_uri": "https://localhost:8080/"
        },
        "id": "pSUgNjLFb2fI",
        "outputId": "865005f3-88c2-4d2f-8b59-5d725e72d687"
      },
      "execution_count": null,
      "outputs": [
        {
          "output_type": "stream",
          "name": "stdout",
          "text": [
            "Epoch 1/50\n",
            "104/104 [==============================] - 0s 3ms/step\n",
            "26/26 [==============================] - 0s 4ms/step\n",
            "\n",
            "  train_auc :  0.8280055014071517\n",
            "  val_auc :  0.7773895143459809\n",
            "104/104 [==============================] - 61s 22ms/step - loss: 0.3890 - accuracy: 0.8687 - val_loss: 0.3556 - val_accuracy: 0.8688\n",
            "Epoch 2/50\n",
            "104/104 [==============================] - 0s 3ms/step\n",
            "26/26 [==============================] - 0s 3ms/step\n",
            "\n",
            "  train_auc :  0.8776843209896172\n",
            "  val_auc :  0.8366667513786883\n",
            "104/104 [==============================] - 2s 18ms/step - loss: 0.3350 - accuracy: 0.8678 - val_loss: 0.3077 - val_accuracy: 0.8664\n",
            "Epoch 3/50\n",
            "104/104 [==============================] - 0s 3ms/step\n",
            "26/26 [==============================] - 0s 2ms/step\n",
            "\n",
            "  train_auc :  0.9013149317094111\n",
            "  val_auc :  0.8628935932298153\n",
            "104/104 [==============================] - 2s 16ms/step - loss: 0.3193 - accuracy: 0.8747 - val_loss: 0.2971 - val_accuracy: 0.8761\n",
            "Epoch 4/50\n",
            "104/104 [==============================] - 0s 3ms/step\n",
            "26/26 [==============================] - 0s 3ms/step\n",
            "\n",
            "  train_auc :  0.9186165392015009\n",
            "  val_auc :  0.8841520750209662\n",
            "104/104 [==============================] - 2s 16ms/step - loss: 0.2876 - accuracy: 0.8790 - val_loss: 0.2851 - val_accuracy: 0.8845\n",
            "Epoch 5/50\n",
            "104/104 [==============================] - 0s 3ms/step\n",
            "26/26 [==============================] - 0s 3ms/step\n",
            "\n",
            "  train_auc :  0.9286152671998473\n",
            "  val_auc :  0.9011283641261532\n",
            "104/104 [==============================] - 1s 14ms/step - loss: 0.2610 - accuracy: 0.8859 - val_loss: 0.2752 - val_accuracy: 0.8736\n",
            "Epoch 6/50\n",
            "104/104 [==============================] - 1s 6ms/step\n",
            "26/26 [==============================] - 0s 4ms/step\n",
            "\n",
            "  train_auc :  0.9346350150255196\n",
            "  val_auc :  0.9079646242598287\n",
            "104/104 [==============================] - 4s 36ms/step - loss: 0.2350 - accuracy: 0.8973 - val_loss: 0.2656 - val_accuracy: 0.8929\n",
            "Epoch 7/50\n",
            "104/104 [==============================] - 0s 4ms/step\n",
            "26/26 [==============================] - 0s 5ms/step\n",
            "\n",
            "  train_auc :  0.9350571605743087\n",
            "  val_auc :  0.9060713105796844\n",
            "104/104 [==============================] - 2s 23ms/step - loss: 0.2657 - accuracy: 0.8877 - val_loss: 0.2809 - val_accuracy: 0.8688\n",
            "Epoch 8/50\n",
            "104/104 [==============================] - 0s 3ms/step\n",
            "26/26 [==============================] - 0s 3ms/step\n",
            "\n",
            "  train_auc :  0.9398875868538629\n",
            "  val_auc :  0.9123230577651275\n",
            "104/104 [==============================] - 2s 23ms/step - loss: 0.2414 - accuracy: 0.8937 - val_loss: 0.2379 - val_accuracy: 0.9037\n",
            "Epoch 9/50\n",
            "104/104 [==============================] - 0s 2ms/step\n",
            "26/26 [==============================] - 0s 3ms/step\n",
            "\n",
            "  train_auc :  0.9433903614074699\n",
            "  val_auc :  0.9182317212635646\n",
            "104/104 [==============================] - 1s 14ms/step - loss: 0.2345 - accuracy: 0.8955 - val_loss: 0.2273 - val_accuracy: 0.9025\n",
            "Epoch 10/50\n",
            "104/104 [==============================] - 0s 2ms/step\n",
            "26/26 [==============================] - 0s 3ms/step\n",
            "\n",
            "  train_auc :  0.940713195427154\n",
            "  val_auc :  0.9206460138758292\n",
            "104/104 [==============================] - 1s 13ms/step - loss: 0.2201 - accuracy: 0.9082 - val_loss: 0.2751 - val_accuracy: 0.8965\n",
            "Epoch 11/50\n",
            "104/104 [==============================] - 0s 3ms/step\n",
            "26/26 [==============================] - 0s 3ms/step\n",
            "\n",
            "  train_auc :  0.9482541777304311\n",
            "  val_auc :  0.9217896261658494\n",
            "104/104 [==============================] - 1s 14ms/step - loss: 0.2118 - accuracy: 0.9058 - val_loss: 0.2467 - val_accuracy: 0.8965\n",
            "Epoch 12/50\n",
            "104/104 [==============================] - 0s 2ms/step\n",
            "26/26 [==============================] - 0s 3ms/step\n",
            "\n",
            "  train_auc :  0.9490833638083731\n",
            "  val_auc :  0.9256397875422501\n",
            "104/104 [==============================] - 1s 14ms/step - loss: 0.2091 - accuracy: 0.9118 - val_loss: 0.2195 - val_accuracy: 0.9146\n",
            "Epoch 13/50\n",
            "104/104 [==============================] - 0s 2ms/step\n",
            "26/26 [==============================] - 0s 3ms/step\n",
            "\n",
            "  train_auc :  0.9478503172054122\n",
            "  val_auc :  0.9219294010012962\n",
            "104/104 [==============================] - 1s 13ms/step - loss: 0.2078 - accuracy: 0.9151 - val_loss: 0.2171 - val_accuracy: 0.9182\n",
            "Epoch 14/50\n",
            "104/104 [==============================] - 0s 3ms/step\n",
            "26/26 [==============================] - 0s 3ms/step\n",
            "\n",
            "  train_auc :  0.9495603644284738\n",
            "  val_auc :  0.9242293323845587\n",
            "104/104 [==============================] - 2s 17ms/step - loss: 0.2324 - accuracy: 0.8997 - val_loss: 0.2200 - val_accuracy: 0.9170\n",
            "Epoch 15/50\n",
            "104/104 [==============================] - 1s 5ms/step\n",
            "26/26 [==============================] - 0s 4ms/step\n",
            "\n",
            "  train_auc :  0.9515482645127439\n",
            "  val_auc :  0.9252712902487992\n",
            "104/104 [==============================] - 2s 24ms/step - loss: 0.2075 - accuracy: 0.9055 - val_loss: 0.2171 - val_accuracy: 0.9182\n",
            "Epoch 16/50\n",
            "104/104 [==============================] - 0s 4ms/step\n",
            "26/26 [==============================] - 0s 4ms/step\n",
            "\n",
            "  train_auc :  0.9528492837040689\n",
            "  val_auc :  0.9273679127805027\n",
            "104/104 [==============================] - 2s 23ms/step - loss: 0.2022 - accuracy: 0.9130 - val_loss: 0.2529 - val_accuracy: 0.8797\n",
            "Epoch 17/50\n",
            "104/104 [==============================] - 0s 2ms/step\n",
            "26/26 [==============================] - 0s 3ms/step\n",
            "\n",
            "  train_auc :  0.9534427519755776\n",
            "  val_auc :  0.9282955094157412\n",
            "104/104 [==============================] - 2s 17ms/step - loss: 0.1998 - accuracy: 0.9145 - val_loss: 0.2405 - val_accuracy: 0.9134\n",
            "Epoch 18/50\n",
            "104/104 [==============================] - 0s 3ms/step\n",
            "26/26 [==============================] - 0s 3ms/step\n",
            "\n",
            "  train_auc :  0.9517044822158269\n",
            "  val_auc :  0.9252839970520217\n",
            "104/104 [==============================] - 2s 17ms/step - loss: 0.1959 - accuracy: 0.9172 - val_loss: 0.2227 - val_accuracy: 0.9061\n",
            "Epoch 19/50\n",
            "104/104 [==============================] - 0s 3ms/step\n",
            "26/26 [==============================] - 0s 3ms/step\n",
            "\n",
            "  train_auc :  0.9555594422272748\n",
            "  val_auc :  0.9283717502350759\n",
            "104/104 [==============================] - 2s 17ms/step - loss: 0.1974 - accuracy: 0.9157 - val_loss: 0.2194 - val_accuracy: 0.9158\n",
            "Epoch 20/50\n",
            "104/104 [==============================] - 0s 2ms/step\n",
            "26/26 [==============================] - 0s 2ms/step\n",
            "\n",
            "  train_auc :  0.9551213966578156\n",
            "  val_auc :  0.9281049073674045\n",
            "104/104 [==============================] - 2s 16ms/step - loss: 0.1943 - accuracy: 0.9208 - val_loss: 0.2211 - val_accuracy: 0.9182\n",
            "Epoch 21/50\n",
            "104/104 [==============================] - 0s 3ms/step\n",
            "26/26 [==============================] - 0s 3ms/step\n",
            "\n",
            "  train_auc :  0.9549266214046079\n",
            "  val_auc :  0.9259574576228112\n",
            "104/104 [==============================] - 1s 14ms/step - loss: 0.1888 - accuracy: 0.9172 - val_loss: 0.2137 - val_accuracy: 0.9206\n",
            "Epoch 22/50\n",
            "104/104 [==============================] - 0s 2ms/step\n",
            "26/26 [==============================] - 0s 3ms/step\n",
            "\n",
            "  train_auc :  0.9575119647655541\n",
            "  val_auc :  0.9323362728404788\n",
            "104/104 [==============================] - 1s 14ms/step - loss: 0.1874 - accuracy: 0.9217 - val_loss: 0.2110 - val_accuracy: 0.9182\n",
            "Epoch 23/50\n",
            "104/104 [==============================] - 0s 2ms/step\n",
            "26/26 [==============================] - 0s 5ms/step\n",
            "\n",
            "  train_auc :  0.957389534606395\n",
            "  val_auc :  0.9325268748888155\n",
            "104/104 [==============================] - 1s 14ms/step - loss: 0.1829 - accuracy: 0.9250 - val_loss: 0.2387 - val_accuracy: 0.9182\n",
            "Epoch 24/50\n",
            "104/104 [==============================] - 0s 4ms/step\n",
            "26/26 [==============================] - 0s 3ms/step\n",
            "\n",
            "  train_auc :  0.9573791995929595\n",
            "  val_auc :  0.9301761162926631\n",
            "104/104 [==============================] - 2s 23ms/step - loss: 0.2020 - accuracy: 0.9148 - val_loss: 0.2111 - val_accuracy: 0.9206\n",
            "Epoch 25/50\n",
            "104/104 [==============================] - 0s 4ms/step\n",
            "26/26 [==============================] - 0s 5ms/step\n",
            "\n",
            "  train_auc :  0.9570842542095305\n",
            "  val_auc :  0.927291671961168\n",
            "104/104 [==============================] - 3s 26ms/step - loss: 0.1928 - accuracy: 0.9166 - val_loss: 0.2818 - val_accuracy: 0.8664\n",
            "Epoch 26/50\n",
            "104/104 [==============================] - 0s 2ms/step\n",
            "26/26 [==============================] - 0s 3ms/step\n",
            "\n",
            "  train_auc :  0.9586504062455281\n",
            "  val_auc :  0.9303667183409997\n",
            "104/104 [==============================] - 1s 14ms/step - loss: 0.2045 - accuracy: 0.9127 - val_loss: 0.2088 - val_accuracy: 0.9206\n",
            "Epoch 27/50\n",
            "104/104 [==============================] - 0s 2ms/step\n",
            "26/26 [==============================] - 0s 3ms/step\n",
            "\n",
            "  train_auc :  0.9599184328939626\n",
            "  val_auc :  0.9317009326793564\n",
            "104/104 [==============================] - 2s 16ms/step - loss: 0.1838 - accuracy: 0.9217 - val_loss: 0.2130 - val_accuracy: 0.9146\n",
            "Epoch 28/50\n",
            "104/104 [==============================] - 0s 3ms/step\n",
            "26/26 [==============================] - 0s 5ms/step\n",
            "\n",
            "  train_auc :  0.9581392205809869\n",
            "  val_auc :  0.9300236346539936\n",
            "104/104 [==============================] - 2s 18ms/step - loss: 0.1919 - accuracy: 0.9175 - val_loss: 0.2189 - val_accuracy: 0.9206\n",
            "Epoch 29/50\n",
            "104/104 [==============================] - 0s 2ms/step\n",
            "26/26 [==============================] - 0s 3ms/step\n",
            "\n",
            "  train_auc :  0.958558186125642\n",
            "  val_auc :  0.9283082162189636\n",
            "104/104 [==============================] - 1s 14ms/step - loss: 0.2176 - accuracy: 0.9079 - val_loss: 0.2119 - val_accuracy: 0.9254\n",
            "Epoch 30/50\n",
            "104/104 [==============================] - 0s 2ms/step\n",
            "26/26 [==============================] - 0s 3ms/step\n",
            "\n",
            "  train_auc :  0.9598516528071487\n",
            "  val_auc :  0.9310910061246791\n",
            "104/104 [==============================] - 2s 17ms/step - loss: 0.1764 - accuracy: 0.9238 - val_loss: 0.2102 - val_accuracy: 0.9230\n",
            "Epoch 31/50\n",
            "104/104 [==============================] - 0s 2ms/step\n",
            "26/26 [==============================] - 0s 3ms/step\n",
            "\n",
            "  train_auc :  0.9599669279570062\n",
            "  val_auc :  0.9323489796437011\n",
            "104/104 [==============================] - 1s 13ms/step - loss: 0.2006 - accuracy: 0.9166 - val_loss: 0.2131 - val_accuracy: 0.9206\n",
            "Epoch 32/50\n",
            "104/104 [==============================] - 1s 5ms/step\n",
            "26/26 [==============================] - 0s 4ms/step\n",
            "\n",
            "  train_auc :  0.9598675528278187\n",
            "  val_auc :  0.9314467966149076\n",
            "104/104 [==============================] - 2s 20ms/step - loss: 0.1764 - accuracy: 0.9241 - val_loss: 0.2263 - val_accuracy: 0.9194\n",
            "Epoch 33/50\n",
            "104/104 [==============================] - 0s 3ms/step\n",
            "26/26 [==============================] - 0s 5ms/step\n",
            "\n",
            "  train_auc :  0.960359658467556\n",
            "  val_auc :  0.9322600320211442\n",
            "104/104 [==============================] - 3s 24ms/step - loss: 0.1787 - accuracy: 0.9265 - val_loss: 0.2296 - val_accuracy: 0.9061\n",
            "Epoch 34/50\n",
            "104/104 [==============================] - 0s 3ms/step\n",
            "26/26 [==============================] - 0s 3ms/step\n",
            "\n",
            "  train_auc :  0.9606712988726885\n",
            "  val_auc :  0.9316246918600218\n",
            "104/104 [==============================] - 2s 24ms/step - loss: 0.1779 - accuracy: 0.9229 - val_loss: 0.2769 - val_accuracy: 0.8700\n",
            "Epoch 35/50\n",
            "104/104 [==============================] - 0s 2ms/step\n",
            "26/26 [==============================] - 0s 2ms/step\n",
            "\n",
            "  train_auc :  0.9620013356017362\n",
            "  val_auc :  0.9338737960303948\n",
            "104/104 [==============================] - 1s 14ms/step - loss: 0.1774 - accuracy: 0.9232 - val_loss: 0.2222 - val_accuracy: 0.9230\n",
            "Epoch 36/50\n",
            "104/104 [==============================] - 0s 3ms/step\n",
            "26/26 [==============================] - 0s 3ms/step\n",
            "\n",
            "  train_auc :  0.9605671537372997\n",
            "  val_auc :  0.929629723754098\n",
            "104/104 [==============================] - 2s 19ms/step - loss: 0.1735 - accuracy: 0.9283 - val_loss: 0.2140 - val_accuracy: 0.9266\n",
            "Epoch 37/50\n",
            "104/104 [==============================] - 0s 2ms/step\n",
            "26/26 [==============================] - 0s 3ms/step\n",
            "\n",
            "  train_auc :  0.9605770912502185\n",
            "  val_auc :  0.9304429591603345\n",
            "104/104 [==============================] - 1s 14ms/step - loss: 0.1801 - accuracy: 0.9229 - val_loss: 0.2745 - val_accuracy: 0.9097\n",
            "Epoch 38/50\n",
            "104/104 [==============================] - 0s 3ms/step\n",
            "26/26 [==============================] - 0s 2ms/step\n",
            "\n",
            "  train_auc :  0.9604280285564372\n",
            "  val_auc :  0.9319042415309157\n",
            "104/104 [==============================] - 2s 16ms/step - loss: 0.1811 - accuracy: 0.9295 - val_loss: 0.2568 - val_accuracy: 0.9182\n",
            "Epoch 39/50\n",
            "104/104 [==============================] - 0s 2ms/step\n",
            "26/26 [==============================] - 0s 3ms/step\n",
            "\n",
            "  train_auc :  0.9629251268026648\n",
            "  val_auc :  0.9321837912018094\n",
            "104/104 [==============================] - 1s 13ms/step - loss: 0.1833 - accuracy: 0.9208 - val_loss: 0.2265 - val_accuracy: 0.9110\n",
            "Epoch 40/50\n",
            "104/104 [==============================] - 0s 4ms/step\n",
            "26/26 [==============================] - 0s 4ms/step\n",
            "\n",
            "  train_auc :  0.9599263829042978\n",
            "  val_auc :  0.9310147653053444\n",
            "104/104 [==============================] - 2s 21ms/step - loss: 0.1830 - accuracy: 0.9226 - val_loss: 0.2520 - val_accuracy: 0.9194\n",
            "Epoch 41/50\n",
            "104/104 [==============================] - 1s 5ms/step\n",
            "26/26 [==============================] - 0s 4ms/step\n",
            "\n",
            "  train_auc :  0.9610421668548169\n",
            "  val_auc :  0.9330097334112684\n",
            "104/104 [==============================] - 3s 24ms/step - loss: 0.1810 - accuracy: 0.9232 - val_loss: 0.2803 - val_accuracy: 0.9134\n",
            "Epoch 42/50\n",
            "104/104 [==============================] - 0s 4ms/step\n",
            "26/26 [==============================] - 0s 4ms/step\n",
            "\n",
            "  train_auc :  0.9639061580780054\n",
            "  val_auc :  0.9332765762789397\n",
            "104/104 [==============================] - 2s 22ms/step - loss: 0.1771 - accuracy: 0.9253 - val_loss: 0.2108 - val_accuracy: 0.9194\n",
            "Epoch 43/50\n",
            "104/104 [==============================] - 0s 3ms/step\n",
            "26/26 [==============================] - 0s 3ms/step\n",
            "\n",
            "  train_auc :  0.963053916970092\n",
            "  val_auc :  0.9342422933238456\n",
            "104/104 [==============================] - 2s 19ms/step - loss: 0.1737 - accuracy: 0.9274 - val_loss: 0.2134 - val_accuracy: 0.9206\n",
            "Epoch 44/50\n",
            "104/104 [==============================] - 0s 3ms/step\n",
            "26/26 [==============================] - 0s 4ms/step\n",
            "\n",
            "  train_auc :  0.9631326220724088\n",
            "  val_auc :  0.9347505654527435\n",
            "104/104 [==============================] - 2s 18ms/step - loss: 0.1788 - accuracy: 0.9268 - val_loss: 0.2245 - val_accuracy: 0.9230\n",
            "Epoch 45/50\n",
            "104/104 [==============================] - 0s 2ms/step\n",
            "26/26 [==============================] - 0s 4ms/step\n",
            "\n",
            "  train_auc :  0.9624489211835976\n",
            "  val_auc :  0.9312816081730159\n",
            "104/104 [==============================] - 2s 15ms/step - loss: 0.1745 - accuracy: 0.9259 - val_loss: 0.2486 - val_accuracy: 0.8905\n",
            "Epoch 46/50\n",
            "104/104 [==============================] - 0s 3ms/step\n",
            "26/26 [==============================] - 0s 3ms/step\n",
            "\n",
            "  train_auc :  0.9623829360978169\n",
            "  val_auc :  0.9310655925182343\n",
            "104/104 [==============================] - 2s 17ms/step - loss: 0.1882 - accuracy: 0.9178 - val_loss: 0.2243 - val_accuracy: 0.9170\n",
            "Epoch 47/50\n",
            "104/104 [==============================] - 0s 3ms/step\n",
            "26/26 [==============================] - 0s 3ms/step\n",
            "\n",
            "  train_auc :  0.9626007663809962\n",
            "  val_auc :  0.9306970952247834\n",
            "104/104 [==============================] - 2s 17ms/step - loss: 0.1671 - accuracy: 0.9277 - val_loss: 0.2218 - val_accuracy: 0.9134\n",
            "Epoch 48/50\n",
            "104/104 [==============================] - 0s 3ms/step\n",
            "26/26 [==============================] - 0s 4ms/step\n",
            "\n",
            "  train_auc :  0.9643298936288617\n",
            "  val_auc :  0.9325014612823705\n",
            "104/104 [==============================] - 2s 17ms/step - loss: 0.1724 - accuracy: 0.9256 - val_loss: 0.2122 - val_accuracy: 0.9278\n",
            "Epoch 49/50\n",
            "104/104 [==============================] - 0s 4ms/step\n",
            "26/26 [==============================] - 0s 6ms/step\n",
            "\n",
            "  train_auc :  0.9646447140381282\n",
            "  val_auc :  0.9364659838877735\n",
            "104/104 [==============================] - 2s 24ms/step - loss: 0.1718 - accuracy: 0.9277 - val_loss: 0.2260 - val_accuracy: 0.9266\n",
            "Epoch 50/50\n",
            "104/104 [==============================] - 0s 4ms/step\n",
            "26/26 [==============================] - 0s 3ms/step\n",
            "\n",
            "  train_auc :  0.9658165455615093\n",
            "  val_auc :  0.9337594348013928\n",
            "104/104 [==============================] - 2s 23ms/step - loss: 0.1633 - accuracy: 0.9301 - val_loss: 0.2078 - val_accuracy: 0.9266\n"
          ]
        },
        {
          "output_type": "execute_result",
          "data": {
            "text/plain": [
              "<keras.callbacks.History at 0x7fd7d53c1f70>"
            ]
          },
          "metadata": {},
          "execution_count": 155
        }
      ]
    },
    {
      "cell_type": "code",
      "source": [
        "import matplotlib.pyplot as plt\n",
        "plt.rcParams.update({'font.size': 18})\n",
        "plt.figure(figsize=(12,10))\n",
        "plt.plot(np.arange(len(auc)),auc,color=\"red\")\n",
        "plt.plot(np.arange(len(auc)),val_auc,color='blue')\n",
        "plt.scatter(np.arange(len(auc)),auc,color='red')\n",
        "plt.scatter(np.arange(len(auc)),val_auc,color='blue')\n",
        "plt.xticks(np.arange(0,len(auc)+1,5),rotation=-35)\n",
        "plt.xlabel('Epochs')\n",
        "plt.ylabel('AUC Score')\n",
        "plt.legend(['Train AUC','Test AUC'])\n",
        "plt.grid()\n",
        "plt.show()"
      ],
      "metadata": {
        "colab": {
          "base_uri": "https://localhost:8080/",
          "height": 638
        },
        "id": "rpREoqO_b63O",
        "outputId": "4ca013d7-8101-4597-cef7-61dc398bc833"
      },
      "execution_count": null,
      "outputs": [
        {
          "output_type": "display_data",
          "data": {
            "text/plain": [
              "<Figure size 864x720 with 1 Axes>"
            ],
            "image/png": "[encoded data removed]"
          },
          "metadata": {
            "needs_background": "light"
          }
        }
      ]
    }
  ]
}